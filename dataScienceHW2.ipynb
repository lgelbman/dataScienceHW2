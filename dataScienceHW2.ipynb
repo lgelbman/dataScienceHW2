{
  "nbformat": 4,
  "nbformat_minor": 0,
  "metadata": {
    "colab": {
      "name": "dataScienceHW2.ipynb",
      "provenance": [],
      "collapsed_sections": []
    },
    "kernelspec": {
      "name": "python3",
      "display_name": "Python 3"
    }
  },
  "cells": [
    {
      "cell_type": "markdown",
      "metadata": {
        "id": "8vHnVkqf-glG"
      },
      "source": [
        "1. Write a program that will ask the user to enter theamount of a purchase. Theprogram should then compute the state and county salestax. Assume the statesales tax is 5 percent and the county sales tax is 2.5 percent. The program should display the amount of the purchase, the state sales tax, the county sales tax, the total sales tax, and the total of the sale(which is the sum of the amount of purchase plus the total sales tax)."
      ]
    },
    {
      "cell_type": "code",
      "metadata": {
        "id": "NPcM9PRV-j-s"
      },
      "source": [
        "amt = input(\"enter amount: \")\n",
        "amt = float(amt)\n",
        "\n",
        "state_sales_tax = 0.05\n",
        "county_sales_tax = 0.025\n",
        "\n",
        "state_sales_tax_on_purchase = state_sales_tax * amt\n",
        "county_sales_tax_on_purchase = county_sales_tax * amt\n",
        "total_tax = state_sales_tax_on_purchase + county_sales_tax_on_purchase\n",
        "total = amt + total_tax\n",
        "\n",
        "result = \"amount = {}, state sales tax = {}, county sales tax = {}, total tax = {}, total = {}\".format(\n",
        "    amt, state_sales_tax_on_purchase, county_sales_tax_on_purchase, total_tax, total)\n",
        "print(result)"
      ],
      "execution_count": null,
      "outputs": []
    },
    {
      "cell_type": "markdown",
      "metadata": {
        "id": "Nr71QOagArdt"
      },
      "source": [
        "2.Running on a particular treadmill you burn 4.2 calories per minute. Write a program that uses a loop to display the number of calories burned after 10, 15,20, 25, and 30 minutes."
      ]
    },
    {
      "cell_type": "code",
      "metadata": {
        "id": "tRoAK88OAtga"
      },
      "source": [
        "cal_per_minute = 4.2\n",
        "acc = 0\n",
        "for i in range(30):\n",
        "  acc += cal_per_minute\n",
        "  if (i >= 10 and i % 5 == 0):\n",
        "    print(\"after {} minutes: {} calories burned\".format(i, acc))"
      ],
      "execution_count": null,
      "outputs": []
    },
    {
      "cell_type": "markdown",
      "metadata": {
        "id": "YQr680rABd0z"
      },
      "source": [
        "3. At one college, the tuition for a full-time student is $8,000 per semester. It has been announced that the tuition will increase by 3 percent each year for the next 5 years. Write a program with a loop that displays the projected semester tuition amount for the next 5 years."
      ]
    },
    {
      "cell_type": "code",
      "metadata": {
        "colab": {
          "base_uri": "https://localhost:8080/"
        },
        "id": "ltVFCo0GBl88",
        "outputId": "b4fdf9a8-5a11-4767-c6af-99c9d2a5ca58"
      },
      "source": [
        "tuition = 8000\n",
        "increase = 0.03\n",
        "for i in range(5):\n",
        "  tuition += (increase * tuition)\n",
        "  print(tuition)"
      ],
      "execution_count": null,
      "outputs": [
        {
          "output_type": "stream",
          "text": [
            "8240.0\n",
            "8487.2\n",
            "8741.816\n",
            "9004.07048\n",
            "9274.1925944\n"
          ],
          "name": "stdout"
        }
      ]
    },
    {
      "cell_type": "markdown",
      "metadata": {
        "id": "CUbgt2B5C6Ne"
      },
      "source": [
        "4. Many financial experts advise that property owners should insure their homes or buildings for at least 80 percent of the amount it would cost to replace the structure. Write a program that asks the user to enter the replacement cost of a building, then displays the minimum amount of insurance he or she should buyfor the property."
      ]
    },
    {
      "cell_type": "code",
      "metadata": {
        "colab": {
          "base_uri": "https://localhost:8080/"
        },
        "id": "LfZyjKRtDDlU",
        "outputId": "f5fa8876-c6cb-4d11-e070-f0cb78f9bc65"
      },
      "source": [
        "percentage_to_insure = 0.8\n",
        "cost = float(input(\"Enter cost to replace: \"))\n",
        "result = cost * percentage_to_insure \n",
        "print(\"insure at least {} out of {}.\".format(result, cost))"
      ],
      "execution_count": null,
      "outputs": [
        {
          "output_type": "stream",
          "text": [
            "Enter cost to replace: 200\n",
            "insure at least 160.0 out of 200.0.\n"
          ],
          "name": "stdout"
        }
      ]
    },
    {
      "cell_type": "markdown",
      "metadata": {
        "id": "nJi2jI21EGO7"
      },
      "source": [
        "5. A county collects property taxes on the assessment value of property, which is 60 percent of the property’s actual value. For example, if an acre of land is valued at \\$10,000, its assessment value is \\$6,000. The property tax is then 72¢ for each \\$100 of the assessment value. The tax for the acre assessed at \\$6,000 will be \\$43.20. Write a program that asks for the actual value of a piece of property and displays the assessment value and property tax."
      ]
    },
    {
      "cell_type": "code",
      "metadata": {
        "id": "Ysts4GDFEnEv",
        "colab": {
          "base_uri": "https://localhost:8080/"
        },
        "outputId": "474542ec-d4eb-41c2-d8e0-3baf6333fbd4"
      },
      "source": [
        "assessment = 0.6\n",
        "tax = 0.0072\n",
        "\n",
        "value = float(input(\"Enter value of property: \"))\n",
        "\n",
        "assessed_value = assessment * value\n",
        "property_tax = assessed_value * tax\n",
        "\n",
        "result = \"assesed value = {}, tax = {}\".format(assessed_value, property_tax)\n",
        "print(result)"
      ],
      "execution_count": null,
      "outputs": [
        {
          "output_type": "stream",
          "text": [
            "Enter value of property: 10000\n",
            "assesed value = 6000.0, tax = 43.199999999999996\n"
          ],
          "name": "stdout"
        }
      ]
    },
    {
      "cell_type": "markdown",
      "metadata": {
        "id": "ErDCSaqStctA"
      },
      "source": [
        "6. Write a program that generates 100 random numbers and keeps a count of how many of those random numbers are even, and how many of them are odd."
      ]
    },
    {
      "cell_type": "code",
      "metadata": {
        "id": "-oKkV7-Mtgeo"
      },
      "source": [
        "import random\n",
        "\n",
        "even_count = 0\n",
        "\n",
        "for i in range(100):\n",
        "  num = random.randint(0, 1000)\n",
        "  if num % 2 == 0:\n",
        "    even_count += 1\n",
        "print(\"num of even numbers: {}, num of odd numbers: {}\".format(even_count, 100 - even_count))"
      ],
      "execution_count": null,
      "outputs": []
    },
    {
      "cell_type": "markdown",
      "metadata": {
        "id": "72APrL3_Iw2z"
      },
      "source": [
        "7. Write a program that lets the user play the game of Rock, Paper, Scissors against the computer. The program should work as follows: \\\n",
        "  a. When the program begins, a random number in the range of 1 through 3 is generated. If the number is 1, then the computer has chosen rock. If the number is 2, then the computer has chosen paper. If the number is 3, then the computer has chosen scissors. (Don’t display the computer’s choice yet.) \\\n",
        "  b. The user enters his or her choice of “rock,” “paper,” or “scissors” at the keyboard. \\\n",
        "  c. The computer’s choice is displayed. \\\n",
        "  d. A winner is selected according to the following rules: \\\n",
        "    i. If one player chooses rock and the other player chooses scissors,then rock wins. (Rock smashes scissors.) \\\n",
        "    ii. If one player chooses scissors and the other player chooses paper,then scissors wins. (Scissors cuts paper.) \\\n",
        "    iii. If one player chooses paper and the other player chooses rock,then paper wins. (Paper wraps rock.) \\\n",
        "    iv. If both players make the same choice, the game mustbe played again to determine the winner. \\"
      ]
    },
    {
      "cell_type": "code",
      "metadata": {
        "colab": {
          "base_uri": "https://localhost:8080/"
        },
        "id": "BaJux7XCJRL2",
        "outputId": "9c00f5f0-719b-44c3-bbf8-1c78319ed5c2"
      },
      "source": [
        "import random\n",
        "\n",
        "def convert_number_to_string(num):\n",
        "    if num == 1:\n",
        "      return \"rock\"\n",
        "    elif num == 2:\n",
        "      return \"paper\"\n",
        "    else: return \"scissors\"\n",
        "\n",
        "\n",
        "\n",
        "game_completed = False\n",
        "\n",
        "while not game_completed:\n",
        "  computer_choice = convert_number_to_string(random.randint(1, 4))\n",
        "  user_choice = input(\"Enter 'rock' 'paper' or 'scissors' : \")\n",
        "  print(computer_choice)\n",
        "  if user_choice not in [\"rock\", \"paper\", \"scissors\"]:\n",
        "    print(\"invalid\")\n",
        "  elif computer_choice == user_choice:\n",
        "    print(\"tie\")\n",
        "  elif computer_choice == \"rock\":\n",
        "    if user_choice == \"paper\":\n",
        "      print(\"user wins\")\n",
        "    elif user_choice == \"scissors\":\n",
        "      print(\"computer wins\")\n",
        "    game_completed = True\n",
        "  elif computer_choice == \"paper\":\n",
        "    if user_choice == \"rock\":\n",
        "      print(\"user wins\")\n",
        "    elif user_choice == \"scissors\":\n",
        "      print(\"computer wins\")\n",
        "    game_completed = True\n",
        "  elif computer_choice == \"scissors\":\n",
        "    if user_choice == \"rock\":\n",
        "      print(\"user wins\")\n",
        "    elif user_choice == \"paper\":\n",
        "      print(\"computer wins\")\n",
        "    game_completed = True"
      ],
      "execution_count": null,
      "outputs": [
        {
          "output_type": "stream",
          "text": [
            "Enter 'rock' 'paper' or 'scissors' : rock\n",
            "paper\n",
            "user wins\n"
          ],
          "name": "stdout"
        }
      ]
    },
    {
      "cell_type": "markdown",
      "metadata": {
        "id": "FdiwCQ24PHWt"
      },
      "source": [
        "8. In a program, write a function that accepts two arguments: a list, and a number n. Assume that the list contains numbers. The function should display all of the numbers in the list that are greater than the number n."
      ]
    },
    {
      "cell_type": "code",
      "metadata": {
        "id": "jk7ab3jLPO9j"
      },
      "source": [
        "def display_all_nums_greater_than_n(nums, n):\n",
        "  result = [i for i in nums if i > n]\n",
        "  for i in result:\n",
        "    print(i)"
      ],
      "execution_count": null,
      "outputs": []
    },
    {
      "cell_type": "markdown",
      "metadata": {
        "id": "kaRQV-H9QLMr"
      },
      "source": [
        "9. A positive integer greater than 1 is said to be prime if it has no divisors other than 1 and itself. A positive integer greater than 1 is composite if it is not prime. Write a program that asks the user to enter an integer greater than 1, then displays all of the prime numbers that are less than or equal to the number entered. Theprogram should work as follows: \\\n",
        "a. Once the user has entered a number, the program should populate a list with all of the integers from 2 up through the value entered. \\\n",
        "b. The program should then use a loop to step through the list. The loop should pass each element to a function that displays whether the element is a prime number, or a composite number."
      ]
    },
    {
      "cell_type": "code",
      "metadata": {
        "id": "9uiYd7FAQKXd"
      },
      "source": [
        "num = int(input(\"enter a number > 1: \"))\n",
        "nums = [i for i in range(2, num)]\n",
        "\n",
        "def is_prime(num1):\n",
        "  for i in range(num1):\n",
        "    for j in range(num1):\n",
        "      if i * j == num1:\n",
        "        return False\n",
        "  return True\n",
        "\n",
        "for i in nums:\n",
        "  if is_prime(i):\n",
        "    print(\"{} is prime.\".format(i))\n",
        "  else:\n",
        "    print(\"{} is composite.\".format(i))"
      ],
      "execution_count": null,
      "outputs": []
    },
    {
      "cell_type": "markdown",
      "metadata": {
        "id": "Kp-KBYPGSOMy"
      },
      "source": [
        "10. Write a program that asks the user to enter a series of single-digit numbers with nothing separating them. The program should display the sum of all the single digit numbers in the string. For example, if the user enters 2514, the method should return 12, which is the sum of 2, 5, 1, and 4."
      ]
    },
    {
      "cell_type": "code",
      "metadata": {
        "id": "fTETv192SUAU"
      },
      "source": [
        "string = input(\"Enter a number: \")\n",
        "sum = 0\n",
        "for i in string:\n",
        "  sum += int(i)\n",
        "\n",
        "print(sum)\n"
      ],
      "execution_count": null,
      "outputs": []
    },
    {
      "cell_type": "markdown",
      "metadata": {
        "id": "AULT6m6lTCCk"
      },
      "source": [
        "11. Write a program that lets the user enter a string and displays the character that appears most frequently in the string."
      ]
    },
    {
      "cell_type": "code",
      "metadata": {
        "id": "7KJvKeB1TEoA"
      },
      "source": [
        "string = input(\"enter: \")\n",
        "char_count = {}\n",
        "\n",
        "for i in string:\n",
        "  if i not in char_count:\n",
        "    char_count[i] = 1\n",
        "  else:\n",
        "    char_count[i] += 1\n",
        "\n",
        "max = 0\n",
        "max_char = \"\"\n",
        "for i in char_count:\n",
        "  if char_count[i] > max:\n",
        "    max_char = i\n",
        "    max = char_count[i]\n",
        "print(\"most frequent char: {}\".format(max_char))\n"
      ],
      "execution_count": null,
      "outputs": []
    },
    {
      "cell_type": "markdown",
      "metadata": {
        "id": "ONK0zqHiUuuD"
      },
      "source": [
        "12. Write a program that opens a specified text file then displays a list of all the unique words found in the file. Hint: Store each word as an element of a set."
      ]
    },
    {
      "cell_type": "code",
      "metadata": {
        "id": "tUJTqA0ZUx9w"
      },
      "source": [
        "from google.colab import drive\n",
        "\n",
        "drive.mount('/content/drive')\n",
        "\n",
        "file = open(\"data1.txt\", \"r\")\n",
        "\n",
        "strings = file.read().split(\" \")\n",
        "set1 = set()\n",
        "for i in strings:\n",
        "  set1.add(i)\n",
        "\n",
        "for i in set1:\n",
        "  print(i)\n",
        "\n",
        "\n",
        "\n"
      ],
      "execution_count": null,
      "outputs": []
    },
    {
      "cell_type": "code",
      "metadata": {
        "id": "dq0aXbXpghsj"
      },
      "source": [
        "! echo \"Lorem ipsum dolor sit amet, consectetur adipiscing elit, sed do eiusmod tempor incididunt ut labore et dolore magna aliqua. Ut enim ad minim veniam, quis nostrud exercitation ullamco laboris nisi ut aliquip ex ea commodo consequat. Duis aute irure dolor in reprehenderit in voluptate velit esse cillum dolore eu fugiat nulla pariatur. Excepteur sint occaecat cupidatat non proident, sunt in culpa qui officia deserunt mollit anim id est laborum.\" > data1.txt"
      ],
      "execution_count": null,
      "outputs": []
    },
    {
      "cell_type": "markdown",
      "metadata": {
        "id": "3H4iz81Xgy8m"
      },
      "source": [
        "13. Write a program that reads the contents of a textfile. The program should createa dictio-nary in which the keys are the individual words found in the file and the values are the number of times each word appears.For example, if the word “the” appears 128 times, the dictionary would containan element with'the' as the key and 128 as the value. The program should either display the frequency of each word or create a second file containing a list of each word and its frequency."
      ]
    },
    {
      "cell_type": "code",
      "metadata": {
        "id": "BBexkOfnhBhE"
      },
      "source": [
        "file = open(\"data1.txt\", \"r\")\n",
        "strings = file.read().split(\" \")\n",
        "dictionary = {}\n",
        "for i in strings:\n",
        "  if i not in dictionary:\n",
        "    dictionary[i] = 1\n",
        "  else:\n",
        "    dictionary[i] += 1\n",
        "for i in dictionary:\n",
        "  print(\"word: {} apears {} times.\".format(i, dictionary[i]))"
      ],
      "execution_count": null,
      "outputs": []
    }
  ]
}